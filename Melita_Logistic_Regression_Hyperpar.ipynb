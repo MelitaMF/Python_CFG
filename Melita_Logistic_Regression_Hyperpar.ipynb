{
 "cells": [
  {
   "cell_type": "code",
   "execution_count": 35,
   "metadata": {},
   "outputs": [],
   "source": [
    "### Sorting data"
   ]
  },
  {
   "cell_type": "code",
   "execution_count": 1,
   "metadata": {},
   "outputs": [],
   "source": [
    "import pandas as pd\n",
    "import numpy as np\n",
    "# Load data\n",
    "df_raw = pd.read_csv(\"data.csv\", index_col=[0])\n",
    "# Drop empty column\n",
    "df_raw=df_raw.drop('Unnamed: 32', axis=1)\n",
    "import warnings\n",
    "warnings.filterwarnings('ignore')"
   ]
  },
  {
   "cell_type": "code",
   "execution_count": 2,
   "metadata": {},
   "outputs": [],
   "source": [
    "# Turn B and M into 0 and 1\n",
    "one_hot_df = pd.get_dummies(df_raw, drop_first=True)"
   ]
  },
  {
   "cell_type": "code",
   "execution_count": 3,
   "metadata": {},
   "outputs": [
    {
     "data": {
      "text/html": [
       "<div>\n",
       "<style scoped>\n",
       "    .dataframe tbody tr th:only-of-type {\n",
       "        vertical-align: middle;\n",
       "    }\n",
       "\n",
       "    .dataframe tbody tr th {\n",
       "        vertical-align: top;\n",
       "    }\n",
       "\n",
       "    .dataframe thead th {\n",
       "        text-align: right;\n",
       "    }\n",
       "</style>\n",
       "<table border=\"1\" class=\"dataframe\">\n",
       "  <thead>\n",
       "    <tr style=\"text-align: right;\">\n",
       "      <th></th>\n",
       "      <th>radius_mean</th>\n",
       "      <th>texture_mean</th>\n",
       "      <th>perimeter_mean</th>\n",
       "      <th>area_mean</th>\n",
       "      <th>smoothness_mean</th>\n",
       "      <th>compactness_mean</th>\n",
       "      <th>concavity_mean</th>\n",
       "      <th>concave points_mean</th>\n",
       "      <th>symmetry_mean</th>\n",
       "      <th>fractal_dimension_mean</th>\n",
       "      <th>...</th>\n",
       "      <th>texture_worst</th>\n",
       "      <th>perimeter_worst</th>\n",
       "      <th>area_worst</th>\n",
       "      <th>smoothness_worst</th>\n",
       "      <th>compactness_worst</th>\n",
       "      <th>concavity_worst</th>\n",
       "      <th>concave points_worst</th>\n",
       "      <th>symmetry_worst</th>\n",
       "      <th>fractal_dimension_worst</th>\n",
       "      <th>diagnosis_M</th>\n",
       "    </tr>\n",
       "    <tr>\n",
       "      <th>id</th>\n",
       "      <th></th>\n",
       "      <th></th>\n",
       "      <th></th>\n",
       "      <th></th>\n",
       "      <th></th>\n",
       "      <th></th>\n",
       "      <th></th>\n",
       "      <th></th>\n",
       "      <th></th>\n",
       "      <th></th>\n",
       "      <th></th>\n",
       "      <th></th>\n",
       "      <th></th>\n",
       "      <th></th>\n",
       "      <th></th>\n",
       "      <th></th>\n",
       "      <th></th>\n",
       "      <th></th>\n",
       "      <th></th>\n",
       "      <th></th>\n",
       "      <th></th>\n",
       "    </tr>\n",
       "  </thead>\n",
       "  <tbody>\n",
       "    <tr>\n",
       "      <td>842302</td>\n",
       "      <td>17.99</td>\n",
       "      <td>10.38</td>\n",
       "      <td>122.80</td>\n",
       "      <td>1001.0</td>\n",
       "      <td>0.11840</td>\n",
       "      <td>0.27760</td>\n",
       "      <td>0.3001</td>\n",
       "      <td>0.14710</td>\n",
       "      <td>0.2419</td>\n",
       "      <td>0.07871</td>\n",
       "      <td>...</td>\n",
       "      <td>17.33</td>\n",
       "      <td>184.60</td>\n",
       "      <td>2019.0</td>\n",
       "      <td>0.1622</td>\n",
       "      <td>0.6656</td>\n",
       "      <td>0.7119</td>\n",
       "      <td>0.2654</td>\n",
       "      <td>0.4601</td>\n",
       "      <td>0.11890</td>\n",
       "      <td>1</td>\n",
       "    </tr>\n",
       "    <tr>\n",
       "      <td>842517</td>\n",
       "      <td>20.57</td>\n",
       "      <td>17.77</td>\n",
       "      <td>132.90</td>\n",
       "      <td>1326.0</td>\n",
       "      <td>0.08474</td>\n",
       "      <td>0.07864</td>\n",
       "      <td>0.0869</td>\n",
       "      <td>0.07017</td>\n",
       "      <td>0.1812</td>\n",
       "      <td>0.05667</td>\n",
       "      <td>...</td>\n",
       "      <td>23.41</td>\n",
       "      <td>158.80</td>\n",
       "      <td>1956.0</td>\n",
       "      <td>0.1238</td>\n",
       "      <td>0.1866</td>\n",
       "      <td>0.2416</td>\n",
       "      <td>0.1860</td>\n",
       "      <td>0.2750</td>\n",
       "      <td>0.08902</td>\n",
       "      <td>1</td>\n",
       "    </tr>\n",
       "    <tr>\n",
       "      <td>84300903</td>\n",
       "      <td>19.69</td>\n",
       "      <td>21.25</td>\n",
       "      <td>130.00</td>\n",
       "      <td>1203.0</td>\n",
       "      <td>0.10960</td>\n",
       "      <td>0.15990</td>\n",
       "      <td>0.1974</td>\n",
       "      <td>0.12790</td>\n",
       "      <td>0.2069</td>\n",
       "      <td>0.05999</td>\n",
       "      <td>...</td>\n",
       "      <td>25.53</td>\n",
       "      <td>152.50</td>\n",
       "      <td>1709.0</td>\n",
       "      <td>0.1444</td>\n",
       "      <td>0.4245</td>\n",
       "      <td>0.4504</td>\n",
       "      <td>0.2430</td>\n",
       "      <td>0.3613</td>\n",
       "      <td>0.08758</td>\n",
       "      <td>1</td>\n",
       "    </tr>\n",
       "    <tr>\n",
       "      <td>84348301</td>\n",
       "      <td>11.42</td>\n",
       "      <td>20.38</td>\n",
       "      <td>77.58</td>\n",
       "      <td>386.1</td>\n",
       "      <td>0.14250</td>\n",
       "      <td>0.28390</td>\n",
       "      <td>0.2414</td>\n",
       "      <td>0.10520</td>\n",
       "      <td>0.2597</td>\n",
       "      <td>0.09744</td>\n",
       "      <td>...</td>\n",
       "      <td>26.50</td>\n",
       "      <td>98.87</td>\n",
       "      <td>567.7</td>\n",
       "      <td>0.2098</td>\n",
       "      <td>0.8663</td>\n",
       "      <td>0.6869</td>\n",
       "      <td>0.2575</td>\n",
       "      <td>0.6638</td>\n",
       "      <td>0.17300</td>\n",
       "      <td>1</td>\n",
       "    </tr>\n",
       "    <tr>\n",
       "      <td>84358402</td>\n",
       "      <td>20.29</td>\n",
       "      <td>14.34</td>\n",
       "      <td>135.10</td>\n",
       "      <td>1297.0</td>\n",
       "      <td>0.10030</td>\n",
       "      <td>0.13280</td>\n",
       "      <td>0.1980</td>\n",
       "      <td>0.10430</td>\n",
       "      <td>0.1809</td>\n",
       "      <td>0.05883</td>\n",
       "      <td>...</td>\n",
       "      <td>16.67</td>\n",
       "      <td>152.20</td>\n",
       "      <td>1575.0</td>\n",
       "      <td>0.1374</td>\n",
       "      <td>0.2050</td>\n",
       "      <td>0.4000</td>\n",
       "      <td>0.1625</td>\n",
       "      <td>0.2364</td>\n",
       "      <td>0.07678</td>\n",
       "      <td>1</td>\n",
       "    </tr>\n",
       "  </tbody>\n",
       "</table>\n",
       "<p>5 rows × 31 columns</p>\n",
       "</div>"
      ],
      "text/plain": [
       "          radius_mean  texture_mean  perimeter_mean  area_mean  \\\n",
       "id                                                               \n",
       "842302          17.99         10.38          122.80     1001.0   \n",
       "842517          20.57         17.77          132.90     1326.0   \n",
       "84300903        19.69         21.25          130.00     1203.0   \n",
       "84348301        11.42         20.38           77.58      386.1   \n",
       "84358402        20.29         14.34          135.10     1297.0   \n",
       "\n",
       "          smoothness_mean  compactness_mean  concavity_mean  \\\n",
       "id                                                            \n",
       "842302            0.11840           0.27760          0.3001   \n",
       "842517            0.08474           0.07864          0.0869   \n",
       "84300903          0.10960           0.15990          0.1974   \n",
       "84348301          0.14250           0.28390          0.2414   \n",
       "84358402          0.10030           0.13280          0.1980   \n",
       "\n",
       "          concave points_mean  symmetry_mean  fractal_dimension_mean  ...  \\\n",
       "id                                                                    ...   \n",
       "842302                0.14710         0.2419                 0.07871  ...   \n",
       "842517                0.07017         0.1812                 0.05667  ...   \n",
       "84300903              0.12790         0.2069                 0.05999  ...   \n",
       "84348301              0.10520         0.2597                 0.09744  ...   \n",
       "84358402              0.10430         0.1809                 0.05883  ...   \n",
       "\n",
       "          texture_worst  perimeter_worst  area_worst  smoothness_worst  \\\n",
       "id                                                                       \n",
       "842302            17.33           184.60      2019.0            0.1622   \n",
       "842517            23.41           158.80      1956.0            0.1238   \n",
       "84300903          25.53           152.50      1709.0            0.1444   \n",
       "84348301          26.50            98.87       567.7            0.2098   \n",
       "84358402          16.67           152.20      1575.0            0.1374   \n",
       "\n",
       "          compactness_worst  concavity_worst  concave points_worst  \\\n",
       "id                                                                   \n",
       "842302               0.6656           0.7119                0.2654   \n",
       "842517               0.1866           0.2416                0.1860   \n",
       "84300903             0.4245           0.4504                0.2430   \n",
       "84348301             0.8663           0.6869                0.2575   \n",
       "84358402             0.2050           0.4000                0.1625   \n",
       "\n",
       "          symmetry_worst  fractal_dimension_worst  diagnosis_M  \n",
       "id                                                              \n",
       "842302            0.4601                  0.11890            1  \n",
       "842517            0.2750                  0.08902            1  \n",
       "84300903          0.3613                  0.08758            1  \n",
       "84348301          0.6638                  0.17300            1  \n",
       "84358402          0.2364                  0.07678            1  \n",
       "\n",
       "[5 rows x 31 columns]"
      ]
     },
     "execution_count": 3,
     "metadata": {},
     "output_type": "execute_result"
    }
   ],
   "source": [
    "one_hot_df.head()"
   ]
  },
  {
   "cell_type": "code",
   "execution_count": 4,
   "metadata": {},
   "outputs": [],
   "source": [
    "# Set target and features\n",
    "target = one_hot_df['diagnosis_M']\n",
    "one_hot_df_indep = one_hot_df.drop('diagnosis_M', axis=1)"
   ]
  },
  {
   "cell_type": "code",
   "execution_count": 5,
   "metadata": {},
   "outputs": [
    {
     "data": {
      "text/html": [
       "<div>\n",
       "<style scoped>\n",
       "    .dataframe tbody tr th:only-of-type {\n",
       "        vertical-align: middle;\n",
       "    }\n",
       "\n",
       "    .dataframe tbody tr th {\n",
       "        vertical-align: top;\n",
       "    }\n",
       "\n",
       "    .dataframe thead th {\n",
       "        text-align: right;\n",
       "    }\n",
       "</style>\n",
       "<table border=\"1\" class=\"dataframe\">\n",
       "  <thead>\n",
       "    <tr style=\"text-align: right;\">\n",
       "      <th></th>\n",
       "      <th>radius_mean</th>\n",
       "      <th>texture_mean</th>\n",
       "      <th>perimeter_mean</th>\n",
       "      <th>area_mean</th>\n",
       "      <th>smoothness_mean</th>\n",
       "      <th>compactness_mean</th>\n",
       "      <th>concavity_mean</th>\n",
       "      <th>concave points_mean</th>\n",
       "      <th>symmetry_mean</th>\n",
       "      <th>fractal_dimension_mean</th>\n",
       "      <th>...</th>\n",
       "      <th>radius_worst</th>\n",
       "      <th>texture_worst</th>\n",
       "      <th>perimeter_worst</th>\n",
       "      <th>area_worst</th>\n",
       "      <th>smoothness_worst</th>\n",
       "      <th>compactness_worst</th>\n",
       "      <th>concavity_worst</th>\n",
       "      <th>concave points_worst</th>\n",
       "      <th>symmetry_worst</th>\n",
       "      <th>fractal_dimension_worst</th>\n",
       "    </tr>\n",
       "    <tr>\n",
       "      <th>id</th>\n",
       "      <th></th>\n",
       "      <th></th>\n",
       "      <th></th>\n",
       "      <th></th>\n",
       "      <th></th>\n",
       "      <th></th>\n",
       "      <th></th>\n",
       "      <th></th>\n",
       "      <th></th>\n",
       "      <th></th>\n",
       "      <th></th>\n",
       "      <th></th>\n",
       "      <th></th>\n",
       "      <th></th>\n",
       "      <th></th>\n",
       "      <th></th>\n",
       "      <th></th>\n",
       "      <th></th>\n",
       "      <th></th>\n",
       "      <th></th>\n",
       "      <th></th>\n",
       "    </tr>\n",
       "  </thead>\n",
       "  <tbody>\n",
       "    <tr>\n",
       "      <td>842302</td>\n",
       "      <td>1.097064</td>\n",
       "      <td>-2.073335</td>\n",
       "      <td>1.269934</td>\n",
       "      <td>0.984375</td>\n",
       "      <td>1.568466</td>\n",
       "      <td>3.283515</td>\n",
       "      <td>2.652874</td>\n",
       "      <td>2.532475</td>\n",
       "      <td>2.217515</td>\n",
       "      <td>2.255747</td>\n",
       "      <td>...</td>\n",
       "      <td>1.886690</td>\n",
       "      <td>-1.359293</td>\n",
       "      <td>2.303601</td>\n",
       "      <td>2.001237</td>\n",
       "      <td>1.307686</td>\n",
       "      <td>2.616665</td>\n",
       "      <td>2.109526</td>\n",
       "      <td>2.296076</td>\n",
       "      <td>2.750622</td>\n",
       "      <td>1.937015</td>\n",
       "    </tr>\n",
       "    <tr>\n",
       "      <td>842517</td>\n",
       "      <td>1.829821</td>\n",
       "      <td>-0.353632</td>\n",
       "      <td>1.685955</td>\n",
       "      <td>1.908708</td>\n",
       "      <td>-0.826962</td>\n",
       "      <td>-0.487072</td>\n",
       "      <td>-0.023846</td>\n",
       "      <td>0.548144</td>\n",
       "      <td>0.001392</td>\n",
       "      <td>-0.868652</td>\n",
       "      <td>...</td>\n",
       "      <td>1.805927</td>\n",
       "      <td>-0.369203</td>\n",
       "      <td>1.535126</td>\n",
       "      <td>1.890489</td>\n",
       "      <td>-0.375612</td>\n",
       "      <td>-0.430444</td>\n",
       "      <td>-0.146749</td>\n",
       "      <td>1.087084</td>\n",
       "      <td>-0.243890</td>\n",
       "      <td>0.281190</td>\n",
       "    </tr>\n",
       "    <tr>\n",
       "      <td>84300903</td>\n",
       "      <td>1.579888</td>\n",
       "      <td>0.456187</td>\n",
       "      <td>1.566503</td>\n",
       "      <td>1.558884</td>\n",
       "      <td>0.942210</td>\n",
       "      <td>1.052926</td>\n",
       "      <td>1.363478</td>\n",
       "      <td>2.037231</td>\n",
       "      <td>0.939685</td>\n",
       "      <td>-0.398008</td>\n",
       "      <td>...</td>\n",
       "      <td>1.511870</td>\n",
       "      <td>-0.023974</td>\n",
       "      <td>1.347475</td>\n",
       "      <td>1.456285</td>\n",
       "      <td>0.527407</td>\n",
       "      <td>1.082932</td>\n",
       "      <td>0.854974</td>\n",
       "      <td>1.955000</td>\n",
       "      <td>1.152255</td>\n",
       "      <td>0.201391</td>\n",
       "    </tr>\n",
       "    <tr>\n",
       "      <td>84348301</td>\n",
       "      <td>-0.768909</td>\n",
       "      <td>0.253732</td>\n",
       "      <td>-0.592687</td>\n",
       "      <td>-0.764464</td>\n",
       "      <td>3.283553</td>\n",
       "      <td>3.402909</td>\n",
       "      <td>1.915897</td>\n",
       "      <td>1.451707</td>\n",
       "      <td>2.867383</td>\n",
       "      <td>4.910919</td>\n",
       "      <td>...</td>\n",
       "      <td>-0.281464</td>\n",
       "      <td>0.133984</td>\n",
       "      <td>-0.249939</td>\n",
       "      <td>-0.550021</td>\n",
       "      <td>3.394275</td>\n",
       "      <td>3.893397</td>\n",
       "      <td>1.989588</td>\n",
       "      <td>2.175786</td>\n",
       "      <td>6.046041</td>\n",
       "      <td>4.935010</td>\n",
       "    </tr>\n",
       "    <tr>\n",
       "      <td>84358402</td>\n",
       "      <td>1.750297</td>\n",
       "      <td>-1.151816</td>\n",
       "      <td>1.776573</td>\n",
       "      <td>1.826229</td>\n",
       "      <td>0.280372</td>\n",
       "      <td>0.539340</td>\n",
       "      <td>1.371011</td>\n",
       "      <td>1.428493</td>\n",
       "      <td>-0.009560</td>\n",
       "      <td>-0.562450</td>\n",
       "      <td>...</td>\n",
       "      <td>1.298575</td>\n",
       "      <td>-1.466770</td>\n",
       "      <td>1.338539</td>\n",
       "      <td>1.220724</td>\n",
       "      <td>0.220556</td>\n",
       "      <td>-0.313395</td>\n",
       "      <td>0.613179</td>\n",
       "      <td>0.729259</td>\n",
       "      <td>-0.868353</td>\n",
       "      <td>-0.397100</td>\n",
       "    </tr>\n",
       "  </tbody>\n",
       "</table>\n",
       "<p>5 rows × 30 columns</p>\n",
       "</div>"
      ],
      "text/plain": [
       "          radius_mean  texture_mean  perimeter_mean  area_mean  \\\n",
       "id                                                               \n",
       "842302       1.097064     -2.073335        1.269934   0.984375   \n",
       "842517       1.829821     -0.353632        1.685955   1.908708   \n",
       "84300903     1.579888      0.456187        1.566503   1.558884   \n",
       "84348301    -0.768909      0.253732       -0.592687  -0.764464   \n",
       "84358402     1.750297     -1.151816        1.776573   1.826229   \n",
       "\n",
       "          smoothness_mean  compactness_mean  concavity_mean  \\\n",
       "id                                                            \n",
       "842302           1.568466          3.283515        2.652874   \n",
       "842517          -0.826962         -0.487072       -0.023846   \n",
       "84300903         0.942210          1.052926        1.363478   \n",
       "84348301         3.283553          3.402909        1.915897   \n",
       "84358402         0.280372          0.539340        1.371011   \n",
       "\n",
       "          concave points_mean  symmetry_mean  fractal_dimension_mean  ...  \\\n",
       "id                                                                    ...   \n",
       "842302               2.532475       2.217515                2.255747  ...   \n",
       "842517               0.548144       0.001392               -0.868652  ...   \n",
       "84300903             2.037231       0.939685               -0.398008  ...   \n",
       "84348301             1.451707       2.867383                4.910919  ...   \n",
       "84358402             1.428493      -0.009560               -0.562450  ...   \n",
       "\n",
       "          radius_worst  texture_worst  perimeter_worst  area_worst  \\\n",
       "id                                                                   \n",
       "842302        1.886690      -1.359293         2.303601    2.001237   \n",
       "842517        1.805927      -0.369203         1.535126    1.890489   \n",
       "84300903      1.511870      -0.023974         1.347475    1.456285   \n",
       "84348301     -0.281464       0.133984        -0.249939   -0.550021   \n",
       "84358402      1.298575      -1.466770         1.338539    1.220724   \n",
       "\n",
       "          smoothness_worst  compactness_worst  concavity_worst  \\\n",
       "id                                                               \n",
       "842302            1.307686           2.616665         2.109526   \n",
       "842517           -0.375612          -0.430444        -0.146749   \n",
       "84300903          0.527407           1.082932         0.854974   \n",
       "84348301          3.394275           3.893397         1.989588   \n",
       "84358402          0.220556          -0.313395         0.613179   \n",
       "\n",
       "          concave points_worst  symmetry_worst  fractal_dimension_worst  \n",
       "id                                                                       \n",
       "842302                2.296076        2.750622                 1.937015  \n",
       "842517                1.087084       -0.243890                 0.281190  \n",
       "84300903              1.955000        1.152255                 0.201391  \n",
       "84348301              2.175786        6.046041                 4.935010  \n",
       "84358402              0.729259       -0.868353                -0.397100  \n",
       "\n",
       "[5 rows x 30 columns]"
      ]
     },
     "execution_count": 5,
     "metadata": {},
     "output_type": "execute_result"
    }
   ],
   "source": [
    "# Standardise the One-hot encoded features\n",
    "\n",
    "std_features = (one_hot_df_indep.apply(lambda x : (x - np.mean(x)) / np.std(x)))\n",
    "std_features.head()"
   ]
  },
  {
   "cell_type": "code",
   "execution_count": 6,
   "metadata": {},
   "outputs": [],
   "source": [
    "# Split into train and test data\n",
    "from sklearn.model_selection import train_test_split, GridSearchCV\n",
    "\n",
    "X = one_hot_df_indep.values\n",
    "\n",
    "X_train, X_test, y_train, y_test  = train_test_split(X, target, test_size = 0.2, random_state = 42)"
   ]
  },
  {
   "cell_type": "code",
   "execution_count": 7,
   "metadata": {},
   "outputs": [],
   "source": [
    "### Logistic Regression"
   ]
  },
  {
   "cell_type": "code",
   "execution_count": 8,
   "metadata": {},
   "outputs": [],
   "source": [
    "# Add Logistic Regression\n",
    "from sklearn.linear_model import LogisticRegression"
   ]
  },
  {
   "cell_type": "code",
   "execution_count": 9,
   "metadata": {},
   "outputs": [],
   "source": [
    "# Fit model (default)\n",
    "logisticRegressor = LogisticRegression()\n",
    "clf = LogisticRegression().fit(X_train,y_train)\n",
    "y_pred = clf.predict(X_test)"
   ]
  },
  {
   "cell_type": "code",
   "execution_count": 10,
   "metadata": {},
   "outputs": [
    {
     "name": "stdout",
     "output_type": "stream",
     "text": [
      "Accuracy Score : 0.956140350877193\n",
      "Precision Score : 0.975\n",
      "Recall Score : 0.9069767441860465\n",
      "F1 Score : 0.9397590361445783\n",
      "Confusion Matrix : \n",
      "[[70  1]\n",
      " [ 4 39]]\n"
     ]
    }
   ],
   "source": [
    "# Test default model\n",
    "\n",
    "# Model Evaluation metrics \n",
    "from sklearn.metrics import accuracy_score,recall_score,precision_score,f1_score\n",
    "print('Accuracy Score : ' + str(accuracy_score(y_test,y_pred)))\n",
    "print('Precision Score : ' + str(precision_score(y_test,y_pred)))\n",
    "print('Recall Score : ' + str(recall_score(y_test,y_pred)))\n",
    "print('F1 Score : ' + str(f1_score(y_test,y_pred)))\n",
    "\n",
    "#Logistic Regression Classifier Confusion matrix\n",
    "from sklearn.metrics import confusion_matrix\n",
    "print('Confusion Matrix : \\n' + str(confusion_matrix(y_test,y_pred)))"
   ]
  },
  {
   "cell_type": "code",
   "execution_count": 12,
   "metadata": {},
   "outputs": [],
   "source": [
    "## Hyperparameter"
   ]
  },
  {
   "cell_type": "code",
   "execution_count": 13,
   "metadata": {},
   "outputs": [
    {
     "name": "stderr",
     "output_type": "stream",
     "text": [
      "C:\\Users\\melit\\Anaconda3\\lib\\site-packages\\sklearn\\model_selection\\_search.py:814: DeprecationWarning: The default of the `iid` parameter will change from True to False in version 0.22 and will be removed in 0.24. This will change numeric results when test-set sizes are unequal.\n",
      "  DeprecationWarning)\n",
      "C:\\Users\\melit\\Anaconda3\\lib\\site-packages\\sklearn\\model_selection\\_search.py:814: DeprecationWarning: The default of the `iid` parameter will change from True to False in version 0.22 and will be removed in 0.24. This will change numeric results when test-set sizes are unequal.\n",
      "  DeprecationWarning)\n"
     ]
    }
   ],
   "source": [
    "#Grid Search\n",
    "from sklearn.model_selection import GridSearchCV\n",
    "clf_grid = LogisticRegression()\n",
    "grid_values = {'penalty': ['l1', 'l2'],\n",
    "               'C':[0.001,.009,0.01,.09,1,5,10,25]}\n",
    "grid_clf_acc = GridSearchCV(clf, \n",
    "                            param_grid = grid_values,\n",
    "                            scoring = 'recall')\n",
    "grid_clf_acc.fit(X_train, y_train)\n",
    "\n",
    "#Predict values based on new parameters\n",
    "y_pred_acc = grid_clf_acc.predict(X_test)\n",
    "\n",
    "grid_result = grid_clf_acc.fit(X_train, y_train)"
   ]
  },
  {
   "cell_type": "code",
   "execution_count": 14,
   "metadata": {},
   "outputs": [
    {
     "name": "stdout",
     "output_type": "stream",
     "text": [
      "Accuracy Score : 0.9736842105263158\n",
      "Precision Score : 1.0\n",
      "Recall Score : 0.9302325581395349\n",
      "F1 Score : 0.963855421686747\n",
      "Confusion Matrix : \n",
      "[[71  0]\n",
      " [ 3 40]]\n",
      "Best Score:  0.9408183921341815\n",
      "Best Params:  {'C': 10, 'penalty': 'l1'}\n"
     ]
    }
   ],
   "source": [
    "# Test Grid model\n",
    "\n",
    "# New Model Evaluation metrics \n",
    "print('Accuracy Score : ' + str(accuracy_score(y_test,y_pred_acc)))\n",
    "print('Precision Score : ' + str(precision_score(y_test,y_pred_acc)))\n",
    "print('Recall Score : ' + str(recall_score(y_test,y_pred_acc)))\n",
    "print('F1 Score : ' + str(f1_score(y_test,y_pred_acc)))\n",
    "\n",
    "#Logistic Regression (Grid Search) Confusion matrix\n",
    "print('Confusion Matrix : \\n' + str(confusion_matrix(y_test,y_pred_acc)))\n",
    "\n",
    "print('Best Score: ', grid_result.best_score_)\n",
    "print('Best Params: ', grid_result.best_params_)"
   ]
  },
  {
   "cell_type": "code",
   "execution_count": 15,
   "metadata": {},
   "outputs": [
    {
     "data": {
      "text/plain": [
       "{'C': 10, 'penalty': 'l1'}"
      ]
     },
     "execution_count": 15,
     "metadata": {},
     "output_type": "execute_result"
    }
   ],
   "source": [
    "lr_params = grid_result.best_params_\n",
    "lr_params"
   ]
  },
  {
   "cell_type": "code",
   "execution_count": 16,
   "metadata": {},
   "outputs": [],
   "source": [
    "### Working with model"
   ]
  },
  {
   "cell_type": "code",
   "execution_count": 17,
   "metadata": {},
   "outputs": [
    {
     "name": "stderr",
     "output_type": "stream",
     "text": [
      "C:\\Users\\melit\\Anaconda3\\lib\\site-packages\\sklearn\\model_selection\\_search.py:814: DeprecationWarning: The default of the `iid` parameter will change from True to False in version 0.22 and will be removed in 0.24. This will change numeric results when test-set sizes are unequal.\n",
      "  DeprecationWarning)\n"
     ]
    }
   ],
   "source": [
    "# Model\n",
    "lr_values = LogisticRegression(random_state = 42,\n",
    "                            C=lr_params['C'], \n",
    "                            class_weight={1: 0.4, 0: 0.6}, \n",
    "                            penalty=lr_params['penalty'], \n",
    "                            solver='liblinear')\n",
    "lr_clf = GridSearchCV(clf, \n",
    "                            param_grid = grid_values,\n",
    "                            scoring = 'recall')\n",
    "lr_clf.fit(X_train, y_train)\n",
    "# Fit your logistic regression model to your train model\n",
    "lr_values.fit(X_train, y_train)\n",
    "\n",
    "#Predict values based on new parameters\n",
    "y_pred_model = lr_values.predict(X_test)\n",
    "\n",
    "model_result = lr_values.fit(X_train, y_train)"
   ]
  },
  {
   "cell_type": "code",
   "execution_count": 18,
   "metadata": {},
   "outputs": [
    {
     "name": "stdout",
     "output_type": "stream",
     "text": [
      "Accuracy Score : 0.9736842105263158\n",
      "Precision Score : 1.0\n",
      "Recall Score : 0.9302325581395349\n",
      "F1 Score : 0.963855421686747\n",
      "Confusion Matrix : \n",
      "[[71  0]\n",
      " [ 3 40]]\n"
     ]
    }
   ],
   "source": [
    "# Test model\n",
    "\n",
    "# New Model Evaluation metrics \n",
    "print('Accuracy Score : ' + str(accuracy_score(y_test,y_pred_model)))\n",
    "print('Precision Score : ' + str(precision_score(y_test,y_pred_model)))\n",
    "print('Recall Score : ' + str(recall_score(y_test,y_pred_model)))\n",
    "print('F1 Score : ' + str(f1_score(y_test,y_pred_model)))\n",
    "\n",
    "#Logistic Regression (Grid Search) Confusion matrix\n",
    "print('Confusion Matrix : \\n' + str(confusion_matrix(y_test,y_pred_model)))"
   ]
  },
  {
   "cell_type": "code",
   "execution_count": 19,
   "metadata": {},
   "outputs": [
    {
     "name": "stdout",
     "output_type": "stream",
     "text": [
      "              precision    recall  f1-score   support\n",
      "\n",
      "           0       0.96      1.00      0.98        71\n",
      "           1       1.00      0.93      0.96        43\n",
      "\n",
      "    accuracy                           0.97       114\n",
      "   macro avg       0.98      0.97      0.97       114\n",
      "weighted avg       0.97      0.97      0.97       114\n",
      "\n"
     ]
    }
   ],
   "source": [
    "# Classification report full (B & M)\n",
    "from sklearn.metrics import classification_report\n",
    "print(classification_report(y_test, y_pred_model))"
   ]
  },
  {
   "cell_type": "code",
   "execution_count": 20,
   "metadata": {
    "scrolled": true
   },
   "outputs": [],
   "source": [
    "# Predict labels on your Test set of independent variables\n",
    "pred_logit = lr_values.predict(X_test)\n",
    "# Predict probabilities on your Test set of independent variables\n",
    "proba_logit = lr_values.predict_proba(X_test)"
   ]
  },
  {
   "cell_type": "code",
   "execution_count": 21,
   "metadata": {},
   "outputs": [
    {
     "data": {
      "text/plain": [
       "array([[9.28205303e-01, 7.17946970e-02],\n",
       "       [2.58506327e-10, 1.00000000e+00],\n",
       "       [8.71853645e-04, 9.99128146e-01],\n",
       "       [9.99829697e-01, 1.70302735e-04],\n",
       "       [9.99981247e-01, 1.87529545e-05],\n",
       "       [6.46571685e-12, 1.00000000e+00],\n",
       "       [3.55271368e-15, 1.00000000e+00],\n",
       "       [4.82246692e-03, 9.95177533e-01],\n",
       "       [9.97777032e-01, 2.22296752e-03],\n",
       "       [9.98407379e-01, 1.59262136e-03],\n",
       "       [9.77234827e-01, 2.27651729e-02],\n",
       "       [2.33014419e-04, 9.99766986e-01],\n",
       "       [9.98183206e-01, 1.81679420e-03],\n",
       "       [2.01790860e-01, 7.98209140e-01],\n",
       "       [9.99092433e-01, 9.07566709e-04],\n",
       "       [4.70650463e-04, 9.99529350e-01],\n",
       "       [9.99512541e-01, 4.87459007e-04],\n",
       "       [9.99996384e-01, 3.61566660e-06],\n",
       "       [9.99925464e-01, 7.45356110e-05],\n",
       "       [5.76951154e-10, 9.99999999e-01],\n",
       "       [9.59921782e-01, 4.00782176e-02],\n",
       "       [9.99020370e-01, 9.79629752e-04],\n",
       "       [1.28408395e-12, 1.00000000e+00],\n",
       "       [9.99425228e-01, 5.74772107e-04],\n",
       "       [9.98195041e-01, 1.80495943e-03],\n",
       "       [9.99958768e-01, 4.12321862e-05],\n",
       "       [9.99595494e-01, 4.04505914e-04],\n",
       "       [9.98147955e-01, 1.85204461e-03],\n",
       "       [9.98559809e-01, 1.44019143e-03],\n",
       "       [6.03914252e-10, 9.99999999e-01],\n",
       "       [9.98281026e-01, 1.71897432e-03],\n",
       "       [9.99869553e-01, 1.30447175e-04],\n",
       "       [9.95350328e-01, 4.64967165e-03],\n",
       "       [9.95756246e-01, 4.24375355e-03],\n",
       "       [9.99755872e-01, 2.44128384e-04],\n",
       "       [9.98519287e-01, 1.48071274e-03],\n",
       "       [2.52414835e-03, 9.97475852e-01],\n",
       "       [9.98727869e-01, 1.27213084e-03],\n",
       "       [4.72521857e-07, 9.99999527e-01],\n",
       "       [8.77568238e-01, 1.22431762e-01],\n",
       "       [9.99840352e-01, 1.59647801e-04],\n",
       "       [3.42816326e-04, 9.99657184e-01],\n",
       "       [9.99315446e-01, 6.84554178e-04],\n",
       "       [9.97308450e-01, 2.69154969e-03],\n",
       "       [9.99919136e-01, 8.08643935e-05],\n",
       "       [9.67596648e-01, 3.24033525e-02],\n",
       "       [9.99694027e-01, 3.05973352e-04],\n",
       "       [9.99646073e-01, 3.53927091e-04],\n",
       "       [9.51866907e-01, 4.81330930e-02],\n",
       "       [9.99667777e-01, 3.32222663e-04],\n",
       "       [4.99019659e-06, 9.99995010e-01],\n",
       "       [4.77171636e-11, 1.00000000e+00],\n",
       "       [9.10682665e-01, 8.93173346e-02],\n",
       "       [9.99989629e-01, 1.03710373e-05],\n",
       "       [9.99708158e-01, 2.91842008e-04],\n",
       "       [9.91247830e-01, 8.75216970e-03],\n",
       "       [9.99651567e-01, 3.48433305e-04],\n",
       "       [0.00000000e+00, 1.00000000e+00],\n",
       "       [4.55573577e-01, 5.44426423e-01],\n",
       "       [9.99905503e-01, 9.44972993e-05],\n",
       "       [9.95901888e-01, 4.09811233e-03],\n",
       "       [4.67711647e-10, 1.00000000e+00],\n",
       "       [3.99680289e-15, 1.00000000e+00],\n",
       "       [9.56842977e-01, 4.31570227e-02],\n",
       "       [9.99629745e-01, 3.70254744e-04],\n",
       "       [8.20583447e-01, 1.79416553e-01],\n",
       "       [1.26597467e-06, 9.99998734e-01],\n",
       "       [2.82374124e-12, 1.00000000e+00],\n",
       "       [9.99903805e-01, 9.61953307e-05],\n",
       "       [9.88540570e-01, 1.14594304e-02],\n",
       "       [1.81596345e-02, 9.81840366e-01],\n",
       "       [1.77547382e-05, 9.99982245e-01],\n",
       "       [9.99834446e-01, 1.65554359e-04],\n",
       "       [3.87007171e-02, 9.61299283e-01],\n",
       "       [9.89741587e-01, 1.02584132e-02],\n",
       "       [9.98996766e-01, 1.00323439e-03],\n",
       "       [9.91602754e-01, 8.39724592e-03],\n",
       "       [6.67471429e-01, 3.32528571e-01],\n",
       "       [9.99925189e-01, 7.48112011e-05],\n",
       "       [9.98313039e-01, 1.68696147e-03],\n",
       "       [8.27631037e-04, 9.99172369e-01],\n",
       "       [9.99852024e-01, 1.47976256e-04],\n",
       "       [8.97091331e-01, 1.02908669e-01],\n",
       "       [1.15463195e-14, 1.00000000e+00],\n",
       "       [4.60621938e-04, 9.99539378e-01],\n",
       "       [1.01863664e-02, 9.89813634e-01],\n",
       "       [7.66594728e-05, 9.99923341e-01],\n",
       "       [1.47041901e-08, 9.99999985e-01],\n",
       "       [9.98496850e-01, 1.50314975e-03],\n",
       "       [9.99157769e-01, 8.42231099e-04],\n",
       "       [9.97115357e-01, 2.88464270e-03],\n",
       "       [9.09664599e-01, 9.03354012e-02],\n",
       "       [9.74374176e-01, 2.56258239e-02],\n",
       "       [9.99991944e-01, 8.05563838e-06],\n",
       "       [9.99948242e-01, 5.17583211e-05],\n",
       "       [9.99707422e-01, 2.92578445e-04],\n",
       "       [1.40120826e-09, 9.99999999e-01],\n",
       "       [2.61198065e-07, 9.99999739e-01],\n",
       "       [9.99964675e-01, 3.53247915e-05],\n",
       "       [1.75917887e-05, 9.99982408e-01],\n",
       "       [6.01126106e-05, 9.99939887e-01],\n",
       "       [9.99989207e-01, 1.07928853e-05],\n",
       "       [1.08790532e-10, 1.00000000e+00],\n",
       "       [2.32370230e-04, 9.99767630e-01],\n",
       "       [9.87590565e-01, 1.24094353e-02],\n",
       "       [9.86812118e-01, 1.31878823e-02],\n",
       "       [9.98361542e-01, 1.63845750e-03],\n",
       "       [0.00000000e+00, 1.00000000e+00],\n",
       "       [9.87082277e-01, 1.29177227e-02],\n",
       "       [9.74660590e-01, 2.53394099e-02],\n",
       "       [5.41325664e-05, 9.99945867e-01],\n",
       "       [9.99075184e-01, 9.24815733e-04],\n",
       "       [5.93898759e-01, 4.06101241e-01],\n",
       "       [0.00000000e+00, 1.00000000e+00]])"
      ]
     },
     "execution_count": 21,
     "metadata": {},
     "output_type": "execute_result"
    }
   ],
   "source": [
    "pred_logit\n",
    "proba_logit"
   ]
  },
  {
   "cell_type": "code",
   "execution_count": 22,
   "metadata": {},
   "outputs": [
    {
     "name": "stdout",
     "output_type": "stream",
     "text": [
      "Confusion Matrix\n",
      "col_0         0   1\n",
      "diagnosis_M        \n",
      "0            71   0\n",
      "1             3  40\n",
      "\n",
      "Confusion Matrix in percentges\n",
      "col_0               0         1\n",
      "diagnosis_M                    \n",
      "0            0.622807  0.000000\n",
      "1            0.026316  0.350877\n"
     ]
    }
   ],
   "source": [
    "#confusion matrix from CFG -> I'd leave that one as it got %\n",
    "print(\"Confusion Matrix\")\n",
    "table = pd.crosstab(y_test, pred_logit)\n",
    "print(table)\n",
    "print(\"\")\n",
    "\n",
    "print(\"Confusion Matrix in percentges\")\n",
    "table = pd.crosstab(y_test, pred_logit) / len(y_test)\n",
    "print(table)"
   ]
  },
  {
   "cell_type": "code",
   "execution_count": 23,
   "metadata": {},
   "outputs": [],
   "source": [
    "#  Add plotting\n",
    "import matplotlib.pyplot as plt"
   ]
  },
  {
   "cell_type": "code",
   "execution_count": 24,
   "metadata": {
    "scrolled": true
   },
   "outputs": [
    {
     "name": "stdout",
     "output_type": "stream",
     "text": [
      "AUC : 0.9651162790697674\n"
     ]
    },
    {
     "data": {
      "image/png": "[encoded data removed]",
      "text/plain": [
       "<Figure size 720x720 with 1 Axes>"
      ]
     },
     "metadata": {
      "needs_background": "light"
     },
     "output_type": "display_data"
    }
   ],
   "source": [
    "# AUC from CFG -> I'd leave that one as it got graph\n",
    "from sklearn.metrics import roc_auc_score, roc_curve\n",
    "#roc curve\n",
    "auc = roc_auc_score(y_test, pred_logit)\n",
    "print(\"AUC : \" + str(auc))\n",
    "fpr, tpr, thresholds = roc_curve(y_test, proba_logit[:,1], pos_label=1)\n",
    "plt.figure(figsize=(10, 10))\n",
    "plt.plot(fpr, tpr, label='Logistic Regression (area = %0.2f)' % auc)\n",
    "plt.plot([0, 1], [0, 1], 'k--')\n",
    "plt.legend(loc='best')\n",
    "plt.show()"
   ]
  },
  {
   "cell_type": "code",
   "execution_count": 25,
   "metadata": {},
   "outputs": [
    {
     "data": {
      "text/html": [
       "<div>\n",
       "<style scoped>\n",
       "    .dataframe tbody tr th:only-of-type {\n",
       "        vertical-align: middle;\n",
       "    }\n",
       "\n",
       "    .dataframe tbody tr th {\n",
       "        vertical-align: top;\n",
       "    }\n",
       "\n",
       "    .dataframe thead th {\n",
       "        text-align: right;\n",
       "    }\n",
       "</style>\n",
       "<table border=\"1\" class=\"dataframe\">\n",
       "  <thead>\n",
       "    <tr style=\"text-align: right;\">\n",
       "      <th></th>\n",
       "      <th>Actual</th>\n",
       "      <th>Predicted</th>\n",
       "    </tr>\n",
       "  </thead>\n",
       "  <tbody>\n",
       "    <tr>\n",
       "      <td>0</td>\n",
       "      <td>0</td>\n",
       "      <td>0</td>\n",
       "    </tr>\n",
       "    <tr>\n",
       "      <td>1</td>\n",
       "      <td>1</td>\n",
       "      <td>1</td>\n",
       "    </tr>\n",
       "    <tr>\n",
       "      <td>2</td>\n",
       "      <td>1</td>\n",
       "      <td>1</td>\n",
       "    </tr>\n",
       "    <tr>\n",
       "      <td>3</td>\n",
       "      <td>0</td>\n",
       "      <td>0</td>\n",
       "    </tr>\n",
       "    <tr>\n",
       "      <td>4</td>\n",
       "      <td>0</td>\n",
       "      <td>0</td>\n",
       "    </tr>\n",
       "    <tr>\n",
       "      <td>...</td>\n",
       "      <td>...</td>\n",
       "      <td>...</td>\n",
       "    </tr>\n",
       "    <tr>\n",
       "      <td>109</td>\n",
       "      <td>0</td>\n",
       "      <td>0</td>\n",
       "    </tr>\n",
       "    <tr>\n",
       "      <td>110</td>\n",
       "      <td>1</td>\n",
       "      <td>1</td>\n",
       "    </tr>\n",
       "    <tr>\n",
       "      <td>111</td>\n",
       "      <td>0</td>\n",
       "      <td>0</td>\n",
       "    </tr>\n",
       "    <tr>\n",
       "      <td>112</td>\n",
       "      <td>0</td>\n",
       "      <td>0</td>\n",
       "    </tr>\n",
       "    <tr>\n",
       "      <td>113</td>\n",
       "      <td>1</td>\n",
       "      <td>1</td>\n",
       "    </tr>\n",
       "  </tbody>\n",
       "</table>\n",
       "<p>114 rows × 2 columns</p>\n",
       "</div>"
      ],
      "text/plain": [
       "     Actual  Predicted\n",
       "0         0          0\n",
       "1         1          1\n",
       "2         1          1\n",
       "3         0          0\n",
       "4         0          0\n",
       "..      ...        ...\n",
       "109       0          0\n",
       "110       1          1\n",
       "111       0          0\n",
       "112       0          0\n",
       "113       1          1\n",
       "\n",
       "[114 rows x 2 columns]"
      ]
     },
     "execution_count": 25,
     "metadata": {},
     "output_type": "execute_result"
    }
   ],
   "source": [
    "# Comparison Actual vs. Predicted\n",
    "df2 = pd.DataFrame({'Actual': y_test.values.flatten(), 'Predicted': y_pred_model.flatten()})\n",
    "df2"
   ]
  },
  {
   "cell_type": "code",
   "execution_count": 26,
   "metadata": {},
   "outputs": [
    {
     "data": {
      "image/png": "[encoded data removed]",
      "text/plain": [
       "<Figure size 720x720 with 1 Axes>"
      ]
     },
     "metadata": {
      "needs_background": "light"
     },
     "output_type": "display_data"
    }
   ],
   "source": [
    "# Visualise comparison\n",
    "df1 = df2.head(25)\n",
    "df1.plot(kind='bar',figsize=(10,10))\n",
    "plt.grid(which='major', linestyle='-', linewidth='0.5', color='blue')\n",
    "plt.grid(which='minor', linestyle=':', linewidth='0.5', color='orange')\n",
    "plt.show()"
   ]
  },
  {
   "cell_type": "code",
   "execution_count": 28,
   "metadata": {},
   "outputs": [
    {
     "data": {
      "image/png": "[encoded data removed]",
      "text/plain": [
       "<Figure size 864x432 with 1 Axes>"
      ]
     },
     "metadata": {
      "needs_background": "light"
     },
     "output_type": "display_data"
    }
   ],
   "source": [
    "# Plotting all default and modeled (best params) resoults\n",
    "import matplotlib.pyplot as plt \n",
    "one_hot_df_features = [x for i,x in enumerate(one_hot_df.columns) if i!=8]\n",
    "\n",
    "plt.figure(figsize=(12,6))\n",
    "plt.plot(clf.coef_.T, 'o', label=\"LogisticRegressionDefault\")\n",
    "plt.plot(lr_values.coef_.T, '^', label=\"LogisticRegressionModel\")\n",
    "plt.xticks(range(one_hot_df.shape[1]), one_hot_df_features, rotation=90)\n",
    "plt.hlines(0, 0, one_hot_df.shape[1])\n",
    "plt.ylim(-3, 3)\n",
    "plt.title('Logistic Regression Test Visual')\n",
    "plt.xlabel(\"Feature\")\n",
    "plt.ylabel(\"Coefficient Magnitude\")\n",
    "plt.legend()\n",
    "plt.show()"
   ]
  },
  {
   "cell_type": "code",
   "execution_count": 29,
   "metadata": {
    "scrolled": true
   },
   "outputs": [],
   "source": [
    "# Visualising data we started with\n",
    "# Make the X and y numpy arrays,\n",
    "# containing the values of\n",
    "# Radius and Texture\n",
    "X = np.vstack((np.asarray(one_hot_df.radius_mean.values), \\\n",
    "               np.asarray(one_hot_df.texture_mean.values)))\n",
    "y = np.asarray(one_hot_df.diagnosis_M.values)"
   ]
  },
  {
   "cell_type": "code",
   "execution_count": 30,
   "metadata": {
    "scrolled": true
   },
   "outputs": [
    {
     "data": {
      "text/plain": [
       "Text(0, 0.5, 'texture_mean')"
      ]
     },
     "execution_count": 30,
     "metadata": {},
     "output_type": "execute_result"
    },
    {
     "data": {
      "image/png": "[encoded data removed]",
      "text/plain": [
       "<Figure size 432x288 with 1 Axes>"
      ]
     },
     "metadata": {
      "needs_background": "light"
     },
     "output_type": "display_data"
    }
   ],
   "source": [
    "# Plot the data (below tells  everything 0 -what we coded B (Benigns) is blue, reds coded 1 are M or Malignants. \n",
    "for i in range(len(y)):\n",
    "    if y[i]==0:\n",
    "        c = 'blue'\n",
    "        m = u'o'\n",
    "    if y[i]==1:\n",
    "        c = 'red'\n",
    "        m = u'+'\n",
    "    plt.scatter(X[0][i], X[1][i], color=c, marker=m)\n",
    "    \n",
    "# Put labels\n",
    "plt.xlabel(one_hot_df.columns[one_hot_df.columns.get_loc(\"radius_mean\")])\n",
    "plt.ylabel(one_hot_df.columns[one_hot_df.columns.get_loc(\"texture_mean\")])"
   ]
  },
  {
   "cell_type": "code",
   "execution_count": 31,
   "metadata": {},
   "outputs": [],
   "source": [
    "### Work to test accuracy and make predictions\n",
    "# below is all longer version to model data, guess it can be removed\n",
    "# wanted to use it to see how predicting works in reality as there were no examples with models above\n",
    "\n",
    "# The Logistic Function\n",
    "def sigmoid(z): \n",
    "    return 1 / (1 + np.exp(-z))"
   ]
  },
  {
   "cell_type": "code",
   "execution_count": 32,
   "metadata": {},
   "outputs": [],
   "source": [
    "# Logistic Regression Cost Function ->tells us how problematic are our wrong predictions\n",
    "def calcCostFunction(theta, X, y):\n",
    "    \n",
    "    # number of training examples\n",
    "    m,n = X.shape  \n",
    "    \n",
    "    # Calculate h = X * theta (we are using vectorized version)\n",
    "    h = X.dot(theta) \n",
    "    \n",
    "    # Calculate the Cost J\n",
    "    J = -(np.sum(y * np.log(sigmoid(h)) + (1 - y) * np.log(1 - sigmoid(h)))/m)\n",
    "    return J"
   ]
  },
  {
   "cell_type": "code",
   "execution_count": 33,
   "metadata": {},
   "outputs": [],
   "source": [
    "# The Gradient Function ->this one should help calculate model with smallest J (J = cost)\n",
    "def calcGradient(theta, X, y):\n",
    "    \n",
    "    # number of training examples\n",
    "    m,n = X.shape    \n",
    "    \n",
    "    # Calculate h = X * theta\n",
    "    h = X.dot(theta)\n",
    "    \n",
    "    # Calculate the error = (h - y)\n",
    "    error = sigmoid(h) - y\n",
    "    \n",
    "    # Calculate the new theta\n",
    "    gradient = 1/m * (X.T).dot(error)\n",
    "    \n",
    "    return gradient"
   ]
  },
  {
   "cell_type": "code",
   "execution_count": 34,
   "metadata": {},
   "outputs": [],
   "source": [
    "## Normalisation"
   ]
  },
  {
   "cell_type": "code",
   "execution_count": 35,
   "metadata": {},
   "outputs": [],
   "source": [
    "# The Scaling and Normalization\n",
    "# for two variables\n",
    "\n",
    "def FeatureScalingNormalization(X):\n",
    "    # Initialize the following variables:\n",
    "    # Make a copy of the X vector and call it X_norm\n",
    "    X_norm = X \n",
    "\n",
    "    # Initialize mu: It will contain the average \n",
    "    # value of X in training set.\n",
    "    mu = np.zeros(X.shape[1]) \n",
    "    \n",
    "    # Initialize sigma: It will contain the Range(max-min)\n",
    "    # of X or Standard Deviation\n",
    "    sigma = np.zeros(X.shape[1]) \n",
    "\n",
    "    # mu (mean)\n",
    "    mu = np.vstack((X[0].mean(), \\\n",
    "                    X[1].mean()))\n",
    "\n",
    "    # The Standard Deviation calculation with NumPy,\n",
    "    # requires the argument \"degrees of freedom\" = 1\n",
    "    sigma = np.vstack((X[0].std(ddof=1),\\\n",
    "                       X[1].std(ddof=1)))     \n",
    "\n",
    "    # Number of training examples\n",
    "    m = X.shape[1] \n",
    "    \n",
    "    # Make a vector of size m with the mu values\n",
    "    mu_matrix = np.multiply(np.ones(m), mu).T \n",
    "    \n",
    "    # Make a vector of size m with the sigma values    \n",
    "    sigma_matrix = np.multiply(np.ones(m), sigma).T\n",
    "    \n",
    "    # Apply the Feature Scaling Normalization formula\n",
    "    X_norm = np.subtract(X, mu).T\n",
    "    X_norm = X_norm /sigma.T\n",
    "    \n",
    "    return [X_norm, mu, sigma]"
   ]
  },
  {
   "cell_type": "code",
   "execution_count": 36,
   "metadata": {},
   "outputs": [],
   "source": [
    "# Calculate the accuracy\n",
    "def CalcAccuracy(theta, X):\n",
    "    p = sigmoid(X.dot(theta)) >= 0.5\n",
    "    return p"
   ]
  },
  {
   "cell_type": "code",
   "execution_count": 37,
   "metadata": {},
   "outputs": [],
   "source": [
    "# Normalize X using the FeatureScalingNormalization function, and \n",
    "# copy the results in the \"featuresNormalizeresults\" list\n",
    "featuresNormalizeresults = FeatureScalingNormalization(X)\n",
    "\n",
    "# get the normalized X matrix\n",
    "X = np.asarray(featuresNormalizeresults[0]).T\n",
    "\n",
    "# get the mean\n",
    "mu = featuresNormalizeresults[1]\n",
    "\n",
    "# get the sigma\n",
    "sigma = featuresNormalizeresults[2]"
   ]
  },
  {
   "cell_type": "code",
   "execution_count": 38,
   "metadata": {},
   "outputs": [],
   "source": [
    "# Add a column of 'ones' to X\n",
    "\n",
    "# number of training examples\n",
    "m = len(y) \n",
    "\n",
    "# number of features\n",
    "n = len(X)\n",
    "\n",
    "# Add a column of ones to the X matrix\n",
    "X = np.vstack((np.ones(m), X)).T"
   ]
  },
  {
   "cell_type": "code",
   "execution_count": 39,
   "metadata": {},
   "outputs": [
    {
     "name": "stdout",
     "output_type": "stream",
     "text": [
      "J (or Cost) = 0.6931471805599453\n",
      "Gradient = [ 0.12741652 -0.35265304 -0.20056252]\n"
     ]
    }
   ],
   "source": [
    "### Testing\n",
    "# First test: Compute cost and gradient, \n",
    "# and display the updated theta starting with initial theta = [0, 0, 0]\n",
    "\n",
    "initial_theta = np.zeros(n+1); # set theta = [0, 0, 0]\n",
    "\n",
    "print (\"J (or Cost) =\", calcCostFunction(theta=initial_theta, X=X, y=y))\n",
    "\n",
    "print (\"Gradient =\", calcGradient(theta=initial_theta, X=X, y=y))"
   ]
  },
  {
   "cell_type": "code",
   "execution_count": 40,
   "metadata": {},
   "outputs": [
    {
     "data": {
      "text/plain": [
       "      fun: 0.2558201286363281\n",
       " hess_inv: array([[12.66527269, -1.22908954, -2.82539649],\n",
       "       [-1.22908954, 71.16261306,  7.07658929],\n",
       "       [-2.82539649,  7.07658929, 13.39777084]])\n",
       "      jac: array([7.36409258e-07, 3.24760454e-08, 9.55291040e-07])\n",
       "  message: 'Optimization terminated successfully.'\n",
       "     nfev: 20\n",
       "      nit: 19\n",
       "     njev: 20\n",
       "   status: 0\n",
       "  success: True\n",
       "        x: array([-0.70755981,  3.72528774,  0.93824469])"
      ]
     },
     "execution_count": 40,
     "metadata": {},
     "output_type": "execute_result"
    }
   ],
   "source": [
    "import scipy.optimize as op \n",
    "# Gradient Descent Advanced Optimization: BFGS\n",
    "# Update and find the optimal theta\n",
    "m , n = X.shape;\n",
    "initial_theta = np.zeros(n);\n",
    "Result = op.minimize(fun = calcCostFunction, \n",
    "                                 x0 = initial_theta, \n",
    "                                 args = (X, y),\n",
    "                                 method = 'BFGS',\n",
    "                                 jac = calcGradient);\n",
    "theta = Result.x;\n",
    "Result"
   ]
  },
  {
   "cell_type": "code",
   "execution_count": 41,
   "metadata": {},
   "outputs": [
    {
     "data": {
      "text/plain": [
       "Text(0, 0.5, 'texture_mean')"
      ]
     },
     "execution_count": 41,
     "metadata": {},
     "output_type": "execute_result"
    },
    {
     "data": {
      "image/png": "[encoded data removed]",
      "text/plain": [
       "<Figure size 432x288 with 1 Axes>"
      ]
     },
     "metadata": {
      "needs_background": "light"
     },
     "output_type": "display_data"
    }
   ],
   "source": [
    "# Plot the data with the \n",
    "# Logistic Regression Decision Boundary\n",
    "\n",
    "# Create a plot set\n",
    "plot_x = np.asarray([X.T[1].min()+1, X.T[1].max()-3])\n",
    "\n",
    "# Calculate the Decision Boundary\n",
    "plot_y = (-1/theta[2]) * (theta[1] * plot_x + theta[0])\n",
    "\n",
    "for i in range(len(y)):\n",
    "    if y[i]==0:\n",
    "        c = 'blue'\n",
    "        m = u'o'\n",
    "    if y[i]==1:\n",
    "        c = 'red'\n",
    "        m = u'+'\n",
    "    plt.scatter(X.T[1][i], X.T[2][i], color=c, marker=m) \n",
    "    \n",
    "# Plot the Decision Boundary (red line)\n",
    "plt.plot(plot_x, plot_y, color='red')\n",
    "\n",
    "# Put labels\n",
    "plt.xlabel(one_hot_df.columns[one_hot_df.columns.get_loc(\"radius_mean\")])\n",
    "plt.ylabel(one_hot_df.columns[one_hot_df.columns.get_loc(\"texture_mean\")])"
   ]
  },
  {
   "cell_type": "code",
   "execution_count": 42,
   "metadata": {},
   "outputs": [
    {
     "name": "stdout",
     "output_type": "stream",
     "text": [
      "Train Accuracy: 89.103690685413\n"
     ]
    }
   ],
   "source": [
    "# Calculate accuracy\n",
    "p = CalcAccuracy(theta, X)\n",
    "p = (p == y) * 100\n",
    "print (\"Train Accuracy:\", p.mean())"
   ]
  },
  {
   "cell_type": "code",
   "execution_count": 43,
   "metadata": {},
   "outputs": [],
   "source": [
    "### PREDICTIONS"
   ]
  },
  {
   "cell_type": "code",
   "execution_count": 43,
   "metadata": {},
   "outputs": [
    {
     "data": {
      "text/plain": [
       "0.7999520268226942"
      ]
     },
     "execution_count": 43,
     "metadata": {},
     "output_type": "execute_result"
    }
   ],
   "source": [
    "# Perform a Query:\n",
    "# Predict the risk of malignancy for Radius = 18.00 and Texture = 10.12\n",
    "\n",
    "query = np.asarray([1, 18.00, 10.12])\n",
    "\n",
    "# Scale and Normalize the query\n",
    "query_Normalized = \\\n",
    "np.asarray([1, ((query[1]-float(mu[0]))/float(sigma[0])),\\\n",
    "                               ((query[2]-float(mu[1]))/float(sigma[1]))])\n",
    "\n",
    "\n",
    "prediction = sigmoid(query_Normalized.dot(theta));\n",
    "prediction"
   ]
  }
 ],
 "metadata": {
  "kernelspec": {
   "display_name": "Python 3",
   "language": "python",
   "name": "python3"
  },
  "language_info": {
   "codemirror_mode": {
    "name": "ipython",
    "version": 3
   },
   "file_extension": ".py",
   "mimetype": "text/x-python",
   "name": "python",
   "nbconvert_exporter": "python",
   "pygments_lexer": "ipython3",
   "version": "3.7.4"
  }
 },
 "nbformat": 4,
 "nbformat_minor": 4
}
